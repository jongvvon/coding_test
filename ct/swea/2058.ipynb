{
 "cells": [
  {
   "cell_type": "markdown",
   "metadata": {},
   "source": [
    "2058. 자릿수 더하기 D1\n",
    "\n",
    "하나의 자연수를 입력 받아 각 자릿수의 합을 계산하는 프로그램을 작성하라.\n",
    "\n",
    "\n",
    "[제약 사항]\n",
    "\n",
    "자연수 N은 1부터 9999까지의 자연수이다. (1 ≤ N ≤ 9999)\n",
    "\n",
    "\n",
    "[입력]\n",
    "\n",
    "입력으로 자연수 N이 주어진다.\n",
    "\n",
    "\n",
    "[출력]\n",
    "\n",
    "각 자릿수의 합을 출력한다.\n",
    "\n"
   ]
  },
  {
   "cell_type": "code",
   "execution_count": null,
   "metadata": {},
   "outputs": [],
   "source": [
    "print(sum(list(map(int, input()))))"
   ]
  }
 ],
 "metadata": {
  "kernelspec": {
   "display_name": "Python 3.9.12 ('base')",
   "language": "python",
   "name": "python3"
  },
  "language_info": {
   "name": "python",
   "version": "3.9.12"
  },
  "orig_nbformat": 4,
  "vscode": {
   "interpreter": {
    "hash": "28219e3f9b02e576b089e0d76d27e826543416d6255c1219df1c9b8db97f34ce"
   }
  }
 },
 "nbformat": 4,
 "nbformat_minor": 2
}
