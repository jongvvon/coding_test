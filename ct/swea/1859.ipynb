{
 "cells": [
  {
   "cell_type": "markdown",
   "metadata": {},
   "source": [
    "1859. 백만 장자 프로젝트 (D2)\n",
    "\n",
    "25년 간의 수행 끝에 원재는 미래를 보는 능력을 갖게 되었다. 이 능력으로 원재는 사재기를 하려고 한다.\n",
    "\n",
    "다만 당국의 감시가 심해 한 번에 많은 양을 사재기 할 수 없다.\n",
    "\n",
    "다음과 같은 조건 하에서 사재기를 하여 최대한의 이득을 얻도록 도와주자.\n",
    "\n",
    "    1. 원재는 연속된 N일 동안의 물건의 매매가를 예측하여 알고 있다.\n",
    "    2. 당국의 감시망에 걸리지 않기 위해 하루에 최대 1만큼 구입할 수 있다.\n",
    "    3. 판매는 얼마든지 할 수 있다.\n",
    "\n",
    "예를 들어 3일 동안의 매매가가 1, 2, 3 이라면 처음 두 날에 원료를 구매하여 마지막 날에 팔면 3의 이익을 얻을 수 있다.\n",
    "\n",
    "\n",
    "[입력]\n",
    "\n",
    "첫 번째 줄에 테스트 케이스의 수 T가 주어진다.\n",
    "\n",
    "각 테스트 케이스 별로 첫 줄에는 자연수 N(2 ≤ N ≤ 1,000,000)이 주어지고,\n",
    "\n",
    "둘째 줄에는 각 날의 매매가를 나타내는 N개의 자연수들이 공백으로 구분되어 순서대로 주어진다.\n",
    "\n",
    "각 날의 매매가는 10,000이하이다.\n",
    "\n",
    "\n",
    "[출력]\n",
    "\n",
    "각 테스트 케이스마다 ‘#x’(x는 테스트케이스 번호를 의미하며 1부터 시작한다)를 출력하고, 최대 이익을 출력한다."
   ]
  },
  {
   "cell_type": "code",
   "execution_count": 26,
   "metadata": {},
   "outputs": [
    {
     "ename": "ValueError",
     "evalue": "invalid literal for int() with base 10: ''",
     "output_type": "error",
     "traceback": [
      "\u001b[0;31m---------------------------------------------------------------------------\u001b[0m",
      "\u001b[0;31mValueError\u001b[0m                                Traceback (most recent call last)",
      "Cell \u001b[0;32mIn [26], line 2\u001b[0m\n\u001b[1;32m      1\u001b[0m \u001b[38;5;66;03m#MEMORY ERROR\u001b[39;00m\n\u001b[0;32m----> 2\u001b[0m T \u001b[38;5;241m=\u001b[39m \u001b[38;5;28mint\u001b[39m(\u001b[38;5;28minput\u001b[39m())\n\u001b[1;32m      4\u001b[0m \u001b[38;5;28;01mfor\u001b[39;00m case \u001b[38;5;129;01min\u001b[39;00m \u001b[38;5;28mrange\u001b[39m(\u001b[38;5;241m1\u001b[39m, T \u001b[38;5;241m+\u001b[39m \u001b[38;5;241m1\u001b[39m):\n\u001b[1;32m      5\u001b[0m     num \u001b[38;5;241m=\u001b[39m \u001b[38;5;28mint\u001b[39m(\u001b[38;5;28minput\u001b[39m())\n",
      "\u001b[0;31mValueError\u001b[0m: invalid literal for int() with base 10: ''"
     ]
    }
   ],
   "source": [
    "#MEMORY ERROR\n",
    "T = int(input())\n",
    "\n",
    "for case in range(1, T + 1):\n",
    "    num = int(input())\n",
    "    price = list(map(int, input().split(\" \")))\n",
    "    total = 0\n",
    "    for _ in range(0, num):\n",
    "        if price[0] != max(price):\n",
    "            count += 1\n",
    "            total -= price[0]\n",
    "        else:\n",
    "            if count != 0:\n",
    "                total += (count * price[0])\n",
    "                count = 0\n",
    "        price.pop(0)\n",
    "    \n",
    "    print(\"#{} {}\".format(case, total))\n",
    "        \n",
    "    "
   ]
  },
  {
   "cell_type": "code",
   "execution_count": 23,
   "metadata": {},
   "outputs": [
    {
     "name": "stdout",
     "output_type": "stream",
     "text": [
      "#1 0\n",
      "#2 5\n",
      "#3 1\n"
     ]
    }
   ],
   "source": [
    "#PASS CASE\n",
    "T = int(input())\n",
    "\n",
    "for case in range(1, T + 1):\n",
    "    num = int(input())\n",
    "    price = list(map(int, input().split(\" \")))\n",
    "\n",
    "    max = price[num-1]\n",
    "    total = 0\n",
    "    for i in range(num-1, -1, -1):\n",
    "        if price[i] >= max:\n",
    "            max = price[i]\n",
    "        \n",
    "        total += max - price[i]\n",
    "    \n",
    "    print(\"#{} {}\".format(case, total))"
   ]
  },
  {
   "cell_type": "markdown",
   "metadata": {},
   "source": [
    "\"1개씩만 구매한다\"\n",
    "\n"
   ]
  }
 ],
 "metadata": {
  "kernelspec": {
   "display_name": "Python 3.9.12 ('tf28': venv)",
   "language": "python",
   "name": "python3"
  },
  "language_info": {
   "codemirror_mode": {
    "name": "ipython",
    "version": 3
   },
   "file_extension": ".py",
   "mimetype": "text/x-python",
   "name": "python",
   "nbconvert_exporter": "python",
   "pygments_lexer": "ipython3",
   "version": "3.9.12"
  },
  "orig_nbformat": 4,
  "vscode": {
   "interpreter": {
    "hash": "8ff47e74969728d1e5fc1962dad0387ecc410d0fcfbd55b6901293060d9026b6"
   }
  }
 },
 "nbformat": 4,
 "nbformat_minor": 2
}
