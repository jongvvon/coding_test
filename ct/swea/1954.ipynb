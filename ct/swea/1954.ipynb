{
 "cells": [
  {
   "cell_type": "markdown",
   "metadata": {},
   "source": [
    "1954. 달팽이 숫자 D2\n",
    "\n",
    "달팽이는 1부터 N*N까지의 숫자가 시계방향으로 이루어져 있다.\n",
    "\n",
    "다음과 같이 정수 N을 입력 받아 N크기의 달팽이를 출력하시오.\n",
    "\n",
    "\n",
    "[예제]\n",
    "\n",
    "N이 3일 경우,\n",
    " \n",
    "    1   2   3\n",
    "    8   9   4\n",
    "    7   6   5\n",
    "\n",
    "\n",
    "N이 4일 경우,\n",
    " \n",
    "    1   2   3   4\n",
    "    12  13  14  5\n",
    "    11  16  15  6\n",
    "    10  9   8   7\n",
    "\n",
    "[제약사항]\n",
    "\n",
    "달팽이의 크기 N은 1 이상 10 이하의 정수이다. (1 ≤ N ≤ 10)\n",
    "\n",
    "\n",
    "[입력]\n",
    "\n",
    "가장 첫 줄에는 테스트 케이스의 개수 T가 주어지고, 그 아래로 각 테스트 케이스가 주어진다.\n",
    "\n",
    "각 테스트 케이스에는 N이 주어진다.\n",
    "\n",
    "\n",
    "[출력]\n",
    "\n",
    "각 줄은 '#t'로 시작하고, 다음 줄부터 빈칸을 사이에 두고 달팽이 숫자를 출력한다.\n",
    "\n",
    "(t는 테스트 케이스의 번호를 의미하며 1부터 시작한다.)"
   ]
  },
  {
   "cell_type": "code",
   "execution_count": 4,
   "metadata": {},
   "outputs": [
    {
     "name": "stdout",
     "output_type": "stream",
     "text": [
      "#1\n",
      "1 2 3 #2\n",
      "1 2 3 4 "
     ]
    }
   ],
   "source": [
    "T = int(input())\n",
    "\n",
    "for case in range(1, T+1):\n",
    "    num = int(input())\n",
    "    nums = list(range(1, pow(num,2)+1))\n",
    "    snail_num = [nums[i:i+num] for i in range(0, len(nums), num)]\n",
    "\n",
    "    print(\"#{}\".format(case))\n",
    "    for i in range(0, num):\n",
    "        print(\"{} \".format(snail_num[0][i]), end=\"\")\n",
    "\n",
    "\n"
   ]
  },
  {
   "cell_type": "code",
   "execution_count": 10,
   "metadata": {},
   "outputs": [
    {
     "name": "stdout",
     "output_type": "stream",
     "text": [
      "[0][0] [0][1] [0][2] [1][0] [1][1] [1][2] [2][0] [2][1] [2][2] "
     ]
    }
   ],
   "source": [
    "num = 3\n",
    "for i in range(0, num):\n",
    "    for j in range(0, num):\n",
    "        print(\"[{}][{}] \".format(i, j), end=\"\")\n",
    "\n",
    "x = 0\n",
    "y = 0\n",
    "x_count = 0\n",
    "y_count = 0\n",
    "for _ in range(0, num):\n",
    "    x += 1\n",
    "for _ in range(0, num):\n",
    "    y += 1"
   ]
  },
  {
   "cell_type": "markdown",
   "metadata": {},
   "source": [
    "[0][0] [0][1] [0][2] [1][2] [2][2] [2][1] [2][0] [1][0] [1][1]"
   ]
  }
 ],
 "metadata": {
  "kernelspec": {
   "display_name": "Python 3.9.1 64-bit",
   "language": "python",
   "name": "python3"
  },
  "language_info": {
   "codemirror_mode": {
    "name": "ipython",
    "version": 3
   },
   "file_extension": ".py",
   "mimetype": "text/x-python",
   "name": "python",
   "nbconvert_exporter": "python",
   "pygments_lexer": "ipython3",
   "version": "3.9.1"
  },
  "orig_nbformat": 4,
  "vscode": {
   "interpreter": {
    "hash": "31f2aee4e71d21fbe5cf8b01ff0e069b9275f58929596ceb00d14d90e3e16cd6"
   }
  }
 },
 "nbformat": 4,
 "nbformat_minor": 2
}
