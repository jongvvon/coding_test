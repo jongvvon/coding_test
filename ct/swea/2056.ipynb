{
 "cells": [
  {
   "cell_type": "markdown",
   "metadata": {},
   "source": [
    "2056. 연월일 달력 D1\n",
    "\n",
    "연월일 순으로 구성된 8자리의 날짜가 입력으로 주어진다.\n",
    " \n",
    "\n",
    "\n",
    "\n",
    "해당 날짜의 유효성을 판단한 후, 날짜가 유효하다면\n",
    "\n",
    "[그림1] 과 같이 ”YYYY/MM/DD”형식으로 출력하고,\n",
    "\n",
    "날짜가 유효하지 않을 경우, -1 을 출력하는 프로그램을 작성하라.\n",
    "\n",
    "\n",
    "연월일로 구성된 입력에서 월은 1~12 사이 값을 가져야 하며\n",
    "\n",
    "일은 [표1] 과 같이, 1일 ~ 각각의 달에 해당하는 날짜까지의 값을 가질 수 있다.\n",
    " \n",
    "\n",
    "\n",
    "※ 2월의 경우, 28일인 경우만 고려한다. (윤년은 고려하지 않는다.)\n",
    "\n",
    "\n",
    "[입력]\n",
    "\n",
    "입력은 첫 줄에 총 테스트 케이스의 개수 T가 온다.\n",
    "\n",
    "다음 줄부터 각 테스트 케이스가 주어진다.\n",
    "\n",
    "\n",
    "[출력]\n",
    "\n",
    "테스트 케이스 t에 대한 결과는 “#t”을 찍고, 한 칸 띄고, 정답을 출력한다.\n",
    "\n",
    "(t는 테스트 케이스의 번호를 의미하며 1부터 시작한다.)"
   ]
  },
  {
   "cell_type": "code",
   "execution_count": 34,
   "metadata": {},
   "outputs": [
    {
     "name": "stdout",
     "output_type": "stream",
     "text": [
      "#1 0000/01/01\n"
     ]
    }
   ],
   "source": [
    "date_for_month = [31, 28, 31, 30, 31, 30, 31, 31, 30, 31, 30, 31]\n",
    "T = int(input())\n",
    "\n",
    "for case in range(1, T+1):\n",
    "    num = list(input())\n",
    "    year = ''.join(num[0:4])\n",
    "    month = ''.join(num[4:6])\n",
    "    date = ''.join(num[6:8])\n",
    "    if 1 <= int(month) <= 12 and date_for_month[int(month)-1] >= int(date) >= 1:\n",
    "        print(\"#{} {}/{}/{}\".format(case, year, month, date))\n",
    "    else:\n",
    "        print(\"#{} -1\".format(case))"
   ]
  },
  {
   "cell_type": "code",
   "execution_count": null,
   "metadata": {},
   "outputs": [],
   "source": []
  }
 ],
 "metadata": {
  "kernelspec": {
   "display_name": "Python 3 (ipykernel)",
   "language": "python",
   "name": "python3"
  },
  "language_info": {
   "codemirror_mode": {
    "name": "ipython",
    "version": 3
   },
   "file_extension": ".py",
   "mimetype": "text/x-python",
   "name": "python",
   "nbconvert_exporter": "python",
   "pygments_lexer": "ipython3",
   "version": "3.9.12"
  },
  "orig_nbformat": 4
 },
 "nbformat": 4,
 "nbformat_minor": 2
}
