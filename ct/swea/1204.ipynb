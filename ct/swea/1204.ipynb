{
 "cells": [
  {
   "cell_type": "markdown",
   "metadata": {},
   "source": [
    "1204. [S/W 문제해결 기본] 1일차 - 최빈수 구하기 D2\n",
    "\n",
    "어느 고등학교에서 실시한 1000명의 수학 성적을 토대로 통계 자료를 만들려고 한다.\n",
    "\n",
    "이때, 이 학교에서는 최빈수를 이용하여 학생들의 평균 수준을 짐작하는데, 여기서 최빈수는 특정 자료에서 가장 여러 번 나타나는 값을 의미한다.\n",
    "\n",
    "다음과 같은 수 분포가 있으면,\n",
    "\n",
    "10, 8, 7, 2, 2, 4, 8, 8, 8, 9, 5, 5, 3\n",
    "\n",
    "최빈수는 8이 된다.\n",
    "\n",
    "최빈수를 출력하는 프로그램을 작성하여라 (단, 최빈수가 여러 개 일 때에는 가장 큰 점수를 출력하라).\n",
    "\n",
    "[제약 사항]\n",
    "\n",
    "학생의 수는 1000명이며, 각 학생의 점수는 0점 이상 100점 이하의 값이다.\n",
    " \n",
    "[입력]\n",
    "\n",
    "첫 번째 줄에 테스트 케이스의 수 T가 주어진다.\n",
    "\n",
    "각 테스트 케이스의 첫 줄에는 테스트 케이스의 번호가 주어지고 그 다음 줄부터는 점수가 주어진다.\n",
    "\n",
    "[출력]\n",
    "\n",
    "#부호와 함께 테스트 케이스의 번호를 출력하고, 공백 문자 후 테스트 케이스에 대한 답을 출력한다.\n",
    "\n"
   ]
  },
  {
   "cell_type": "code",
   "execution_count": 34,
   "metadata": {},
   "outputs": [
    {
     "name": "stdout",
     "output_type": "stream",
     "text": [
      "#1 80\n"
     ]
    }
   ],
   "source": [
    "T = int(input())\n",
    "\n",
    "for case in range(1, T+1):\n",
    "    case_num = int(input())\n",
    "    numbers = list(map(int, input().split(\" \")))\n",
    "    f_list = [numbers.count(nums) for nums in numbers]\n",
    "    filter_list = list(filter(lambda x: f_list[x] == max(f_list), range(len(f_list))))\n",
    "    max_list = [numbers[filter_num] for filter_num in filter_list]\n",
    "\n",
    "    print(\"#{} {}\".format(case_num, max(max_list)))"
   ]
  },
  {
   "cell_type": "code",
   "execution_count": null,
   "metadata": {},
   "outputs": [],
   "source": [
    "from collections import Counter\n",
    "\n",
    "T = int(input())\n",
    "\n",
    "for case in range(1, T+1):\n",
    "    case_num = int(input())\n",
    "    numbers = list(map(int, input().split(\" \")))\n",
    "    cnt = Counter(numbers).most_common(1)\n",
    "\n",
    "    print(\"#{} {}\".format(case_num, cnt[0][0]))"
   ]
  }
 ],
 "metadata": {
  "kernelspec": {
   "display_name": "Python 3.9.12 ('tf28': venv)",
   "language": "python",
   "name": "python3"
  },
  "language_info": {
   "codemirror_mode": {
    "name": "ipython",
    "version": 3
   },
   "file_extension": ".py",
   "mimetype": "text/x-python",
   "name": "python",
   "nbconvert_exporter": "python",
   "pygments_lexer": "ipython3",
   "version": "3.9.12"
  },
  "orig_nbformat": 4,
  "vscode": {
   "interpreter": {
    "hash": "8ff47e74969728d1e5fc1962dad0387ecc410d0fcfbd55b6901293060d9026b6"
   }
  }
 },
 "nbformat": 4,
 "nbformat_minor": 2
}
